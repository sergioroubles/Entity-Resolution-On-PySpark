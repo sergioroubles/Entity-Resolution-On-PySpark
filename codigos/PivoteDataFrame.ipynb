{
 "cells": [
  {
   "cell_type": "markdown",
   "metadata": {},
   "source": [
    "# Método del \"elemento pivote\""
   ]
  },
  {
   "cell_type": "markdown",
   "metadata": {},
   "source": [
    "## 1. Préambulo\n",
    "\n",
    "Spark context y lectura del archivo. "
   ]
  },
  {
   "cell_type": "code",
   "execution_count": 1,
   "metadata": {},
   "outputs": [],
   "source": [
    "from pyspark import SparkContext\n",
    "import pyspark.sql\n",
    "from pyspark.sql import Row\n",
    "sc=SparkContext()\n",
    "ss=pyspark.sql.SparkSession(sc)"
   ]
  },
  {
   "cell_type": "code",
   "execution_count": 88,
   "metadata": {
    "collapsed": true
   },
   "outputs": [
    {
     "name": "stdout",
     "output_type": "stream",
     "text": [
      "Numero de registros:  32152\n"
     ]
    },
    {
     "data": {
      "text/plain": [
       "[['', 'ASENJO HERRANZ', 'REBECA', '20/02/1980', '{2}'],\n",
       " ['', 'BES SEVIL', 'J VICENTE', '05/04/1956', '{8, 175}'],\n",
       " ['', 'AMARILLA DIAZ', 'RANULFO', '22/11/1967', '{9}'],\n",
       " ['', 'AMBRONA DE LA FUE', 'M CARM', '21/06/1945', '{161, 11, 163}'],\n",
       " ['', 'CANTERO OLMEDO', 'C', '30/04/1954', '{15}'],\n",
       " ['', 'CASTILLO HERNANDE', 'PABLO', '25/03/1953', '{17}'],\n",
       " ['', 'CALLE CALLE', 'M ANUNCIACION', '25/03/1947', '{22}'],\n",
       " ['', 'DE FRUTOS PEREZ', 'M PILAR', '12/12/1954', '{34}'],\n",
       " ['', 'GUTIERREZ LORENZO', 'J M', '31/08/1969', '{608, 1328, 46}'],\n",
       " ['', 'GARCIA RUIZ BLAS', '299724', '04/12/1940', '{47}']]"
      ]
     },
     "execution_count": 88,
     "metadata": {},
     "output_type": "execute_result"
    }
   ],
   "source": [
    "rdd=sc.textFile('cociente_clean_uniform_od.csv').map(lambda x: x.split(';'))\n",
    "print('Numero de registros: ',rdd.count())\n",
    "rdd.take(10)"
   ]
  },
  {
   "cell_type": "code",
   "execution_count": 89,
   "metadata": {},
   "outputs": [],
   "source": [
    "def blank_to_none(x):\n",
    "    if x[0]!='':\n",
    "        return x\n",
    "    else:\n",
    "        x[0]=None\n",
    "        return x\n",
    "    \n",
    "def date_to_int(x):\n",
    "    x[3]=int(x[3].replace(\"/\",\"\"))\n",
    "    return x\n",
    "\n",
    "def string_to_set(x):\n",
    "    x[4]=list(eval(x[4]))\n",
    "    return x"
   ]
  },
  {
   "cell_type": "code",
   "execution_count": 90,
   "metadata": {},
   "outputs": [],
   "source": [
    "rdd=rdd.map(string_to_set).map(blank_to_none).map(date_to_int)"
   ]
  },
  {
   "cell_type": "code",
   "execution_count": 2,
   "metadata": {},
   "outputs": [],
   "source": [
    "from pyspark.sql.types import *\n",
    "from datetime import datetime"
   ]
  },
  {
   "cell_type": "code",
   "execution_count": 75,
   "metadata": {},
   "outputs": [],
   "source": [
    "schema = StructType([StructField('num', dataType=IntegerType(), nullable=True),\n",
    "                     StructField('apellidos', StringType(), True),\n",
    "                     StructField('nombre', StringType(), True),\n",
    "                     StructField('fecha', IntegerType(), True),\n",
    "                     StructField('index', ArrayType(IntegerType()), True)])"
   ]
  },
  {
   "cell_type": "code",
   "execution_count": 91,
   "metadata": {},
   "outputs": [],
   "source": [
    "df=ss.createDataFrame(rdd, schema)\n",
    "df = df.withColumn(\"num\", df[\"num\"].cast(IntegerType()))"
   ]
  },
  {
   "cell_type": "code",
   "execution_count": 92,
   "metadata": {},
   "outputs": [
    {
     "name": "stdout",
     "output_type": "stream",
     "text": [
      "root\n",
      " |-- num: integer (nullable = true)\n",
      " |-- apellidos: string (nullable = true)\n",
      " |-- nombre: string (nullable = true)\n",
      " |-- fecha: integer (nullable = true)\n",
      " |-- index: array (nullable = true)\n",
      " |    |-- element: integer (containsNull = true)\n",
      "\n"
     ]
    }
   ],
   "source": [
    "df.printSchema()"
   ]
  },
  {
   "cell_type": "code",
   "execution_count": 94,
   "metadata": {
    "collapsed": true
   },
   "outputs": [
    {
     "name": "stdout",
     "output_type": "stream",
     "text": [
      "+----+-----------------+--------------+--------+---------------+\n",
      "| num|        apellidos|        nombre|   fecha|          index|\n",
      "+----+-----------------+--------------+--------+---------------+\n",
      "|null|   ASENJO HERRANZ|        REBECA|20021980|            [2]|\n",
      "|null|        BES SEVIL|     J VICENTE| 5041956|       [8, 175]|\n",
      "|null|    AMARILLA DIAZ|       RANULFO|22111967|            [9]|\n",
      "|null|AMBRONA DE LA FUE|        M CARM|21061945| [161, 11, 163]|\n",
      "|null|   CANTERO OLMEDO|             C|30041954|           [15]|\n",
      "|null|CASTILLO HERNANDE|         PABLO|25031953|           [17]|\n",
      "|null|      CALLE CALLE| M ANUNCIACION|25031947|           [22]|\n",
      "|null|  DE FRUTOS PEREZ|       M PILAR|12121954|           [34]|\n",
      "|null|GUTIERREZ LORENZO|           J M|31081969|[608, 1328, 46]|\n",
      "|null| GARCIA RUIZ BLAS|        299724| 4121940|           [47]|\n",
      "|null|HORCAJADA JIMENEZ|       M PILAR| 9011942|           [50]|\n",
      "|null|     LOPEZ VILLAR|           M J|23011962|           [63]|\n",
      "|null|    LOPEZM ORTEGA|       ANTONIO| 5041943|           [66]|\n",
      "|null|LASIERRA CASTEJON|           M J|19031953|      [688, 67]|\n",
      "|null| MORAGON IGLESIAS|     M ANGELES| 9091948|           [74]|\n",
      "|null|      MARTIN RUIZ|           M J| 2021952|           [76]|\n",
      "|null|           MALAGA|          LUIS|18101962|           [77]|\n",
      "|null|  MARTIN GONZALEZ|MARCELINA65169|24061956|           [83]|\n",
      "|null|  DEL OJO HERNAEZ|        M CARM| 6071948|           [90]|\n",
      "|null|    PEREZ CARRION|      MERCEDES|18051942|           [97]|\n",
      "+----+-----------------+--------------+--------+---------------+\n",
      "only showing top 20 rows\n",
      "\n"
     ]
    }
   ],
   "source": [
    "df.show()"
   ]
  },
  {
   "cell_type": "code",
   "execution_count": null,
   "metadata": {},
   "outputs": [],
   "source": [
    "def merge(x):\n",
    "        if len(x[1])==1:                          \n",
    "        return (x[0],list(x[1]))\n",
    "    else:                                      \n",
    "        lista=list(x[1])\n",
    "        for i in reversed(range(len(lista))):            \n",
    "            for j in range(0,i):\n",
    "                if Matching(lista[i],lista[j]):\n",
    "                    lista[j][3]+=lista[i][3]\n",
    "                    if lista[j][0]=='': lista[j][0]=lista[i][0]  #Línea 'ad hoc' para no perder el número de historia.\n",
    "                    del lista[i]\n",
    "                    break\n",
    "        return (x[0],lista) "
   ]
  },
  {
   "cell_type": "code",
   "execution_count": 96,
   "metadata": {
    "collapsed": true
   },
   "outputs": [
    {
     "ename": "AttributeError",
     "evalue": "'GroupedData' object has no attribute 'show'",
     "output_type": "error",
     "traceback": [
      "\u001b[0;31m---------------------------------------------------------------------------\u001b[0m",
      "\u001b[0;31mAttributeError\u001b[0m                            Traceback (most recent call last)",
      "\u001b[0;32m<ipython-input-96-cc1487f16d2a>\u001b[0m in \u001b[0;36m<module>\u001b[0;34m()\u001b[0m\n\u001b[0;32m----> 1\u001b[0;31m \u001b[0mdf\u001b[0m\u001b[0;34m.\u001b[0m\u001b[0mgroupBy\u001b[0m\u001b[0;34m(\u001b[0m\u001b[0;34m\"fecha\"\u001b[0m\u001b[0;34m)\u001b[0m\u001b[0;34m.\u001b[0m\u001b[0mshow\u001b[0m\u001b[0;34m\u001b[0m\u001b[0m\n\u001b[0m",
      "\u001b[0;31mAttributeError\u001b[0m: 'GroupedData' object has no attribute 'show'"
     ]
    }
   ],
   "source": [
    "df.groupBy(\"fecha\").show"
   ]
  },
  {
   "cell_type": "markdown",
   "metadata": {},
   "source": [
    "## 2. Rutinas necesarias"
   ]
  },
  {
   "cell_type": "markdown",
   "metadata": {},
   "source": [
    "### 2.1 Función de Matching\n",
    "\n",
    "Adaptada a las necesidades del elemento pivote, esto es, sólo hay que comparar 3 campos dado que el 4o es sobre el que se esta pivotando."
   ]
  },
  {
   "cell_type": "code",
   "execution_count": null,
   "metadata": {},
   "outputs": [],
   "source": [
    "def Matching(x,y):\n",
    "    if x[0]==y[0]:\n",
    "        if x[1]==y[1]:\n",
    "            return True\n",
    "        elif x[2]==y[2]:\n",
    "            return True\n",
    "    elif x[1]==y[1] and x[2]==y[2]:\n",
    "        return True\n",
    "    else:\n",
    "        return False"
   ]
  },
  {
   "cell_type": "markdown",
   "metadata": {},
   "source": [
    "### 2.2 Función de Pivotaje\n",
    "\n",
    "Función que pivota sobre el elemento clave _(por defecto, el primero)_, y se deja como valor el resto. El valor esta en forma de lista y no de tupla para poder editar sus valores al fusionar dos registros."
   ]
  },
  {
   "cell_type": "code",
   "execution_count": null,
   "metadata": {},
   "outputs": [],
   "source": [
    "def Pivotaje(x):\n",
    "    return [x[0],[x[1],x[2],x[3],x[4]]]\n",
    "\n",
    "def PivotajeInv(x):\n",
    "    return [x[0],x[1][0],x[1][1],x[1][2],x[1][3]]\n",
    "        "
   ]
  },
  {
   "cell_type": "markdown",
   "metadata": {},
   "source": [
    "###  2.3 Compare and Merge\n",
    "\n",
    "Función que procede de la siguiente manera:\n",
    "\n",
    "1. Si la entrada solo tiene un valor, lo devuelve y lo deja intacto.\n",
    "\n",
    "2. En caso contrario, se transforma el conjunto de registros con la misma fecha a una lista `lista` para recorrerla de la siguiente manera: Se toma un elemento `i` de la lista (empezando **desde el final**), y se va comparando con el elemento primero, luego con el segundo, etc. \n",
    "\n",
    "3. En cuanto coincide con algun elemento `j`, se realizan las siguientes instrucciones:\n",
    "    Primero, se añaden los índices asociados al paciente `i` a la lista de índices del paciente `j`.\n",
    "    Segundo, si el numero de historia en la entrada `j` esta vacío (cosa bastante frecuente), se actualiza al de la entrada `i`.\n",
    "    Por último, se borra la entrada `i` de la lista.\n",
    "\n",
    "4. Se devuelve `(x[0],lista)`"
   ]
  },
  {
   "cell_type": "code",
   "execution_count": null,
   "metadata": {},
   "outputs": [],
   "source": [
    "def Merge(x):\n",
    "    if len(x[1])==1:                          \n",
    "        return (x[0],list(x[1]))\n",
    "    else:                                      \n",
    "        lista=list(x[1])\n",
    "        for i in reversed(range(len(lista))):            \n",
    "            for j in range(0,i):\n",
    "                if Matching(lista[i],lista[j]):\n",
    "                    lista[j][3]+=lista[i][3]\n",
    "                    if lista[j][0]=='': lista[j][0]=lista[i][0]  #Línea 'ad hoc' para no perder el número de historia.\n",
    "                    del lista[i]\n",
    "                    break\n",
    "        return (x[0],lista) "
   ]
  },
  {
   "cell_type": "markdown",
   "metadata": {},
   "source": [
    "## 3. Ejecución y pruebas"
   ]
  },
  {
   "cell_type": "markdown",
   "metadata": {},
   "source": [
    "## 3.1 Pruebas con una muestra de 20 fechas"
   ]
  },
  {
   "cell_type": "code",
   "execution_count": null,
   "metadata": {},
   "outputs": [],
   "source": [
    "rdd2=rdd.map(Pivotaje).groupByKey()\n"
   ]
  },
  {
   "cell_type": "code",
   "execution_count": null,
   "metadata": {},
   "outputs": [],
   "source": [
    "a=rdd2.take(20)\n",
    "b=sc.parallelize(a)"
   ]
  },
  {
   "cell_type": "markdown",
   "metadata": {},
   "source": [
    "Vemos los bloques dentro de los cuales vamos a comparar:"
   ]
  },
  {
   "cell_type": "code",
   "execution_count": null,
   "metadata": {},
   "outputs": [],
   "source": [
    "for (a,d) in b.collect():\n",
    "    print(\"Bloque de \",a)\n",
    "    for i in d:\n",
    "        print(i)\n",
    "    print(\"\\n\")"
   ]
  },
  {
   "cell_type": "markdown",
   "metadata": {},
   "source": [
    "Aplicamos la función de Merge y vemos el resultado"
   ]
  },
  {
   "cell_type": "code",
   "execution_count": null,
   "metadata": {
    "scrolled": true
   },
   "outputs": [],
   "source": [
    "c=b.map(Merge)\n",
    "c.collect()"
   ]
  },
  {
   "cell_type": "code",
   "execution_count": null,
   "metadata": {
    "scrolled": true
   },
   "outputs": [],
   "source": [
    "c.flatMapValues(lambda x: x).collect()"
   ]
  },
  {
   "cell_type": "markdown",
   "metadata": {},
   "source": [
    "## 3.2 Ejecución con todos los registros"
   ]
  },
  {
   "cell_type": "code",
   "execution_count": null,
   "metadata": {},
   "outputs": [],
   "source": [
    "import time"
   ]
  },
  {
   "cell_type": "markdown",
   "metadata": {},
   "source": [
    "### 3.2.1 Fecha"
   ]
  },
  {
   "cell_type": "code",
   "execution_count": null,
   "metadata": {},
   "outputs": [],
   "source": [
    "rdd."
   ]
  },
  {
   "cell_type": "code",
   "execution_count": null,
   "metadata": {},
   "outputs": [],
   "source": [
    "t=time.time()\n",
    "rdd3=rdd2.map(Merge).flatMapValues(lambda x: x).map(PivotajeInv)\n",
    "print(\"Tiempo: \", time.time()-t)\n",
    "print(\"Numero de registros: \", rdd3.count())\n",
    "print(\"Errores: \", N-rdd3.count())"
   ]
  }
 ],
 "metadata": {
  "kernelspec": {
   "display_name": "Python 3",
   "language": "python",
   "name": "python3"
  },
  "language_info": {
   "codemirror_mode": {
    "name": "ipython",
    "version": 3
   },
   "file_extension": ".py",
   "mimetype": "text/x-python",
   "name": "python",
   "nbconvert_exporter": "python",
   "pygments_lexer": "ipython3",
   "version": "3.8.5"
  }
 },
 "nbformat": 4,
 "nbformat_minor": 2
}
