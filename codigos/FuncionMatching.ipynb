{
 "cells": [
  {
   "cell_type": "markdown",
   "metadata": {},
   "source": [
    "## 1. Preámbulo\n",
    "\n",
    "Extraemos los datos que necesitamos de los CSV ya cocientados. Necesitamos tener los archivos `cociente_clean_uniform_oX.csv`"
   ]
  },
  {
   "cell_type": "code",
   "execution_count": null,
   "metadata": {},
   "outputs": [],
   "source": [
    "from pyspark import SparkContext\n",
    "sc=SparkContext()"
   ]
  },
  {
   "cell_type": "code",
   "execution_count": null,
   "metadata": {
    "scrolled": true
   },
   "outputs": [],
   "source": [
    "rdd=sc.textFile('cociente_clean_uniform_od.csv').map(lambda x: x.split(';'))\n",
    "rdd2=sc.textFile('cociente_clean_uniform_oi.csv').map(lambda x: x.split(';'))\n",
    "print(rdd.take(20))"
   ]
  },
  {
   "cell_type": "markdown",
   "metadata": {},
   "source": [
    "###  [Definición de la distancia de edición para comparar cadenas de texto]\n",
    "\n",
    "Función recursiva que devuelve el número de ediciones que separan dos cadenas de texto. No se utiliza por ser muy pesada su evaluación.\n"
   ]
  },
  {
   "cell_type": "code",
   "execution_count": null,
   "metadata": {},
   "outputs": [],
   "source": [
    "def iterative_levenshtein(s, t):\n",
    "    rows = len(s)+1\n",
    "    cols = len(t)+1\n",
    "    dist = [[0 for x in range(cols)] for x in range(rows)]\n",
    "    # source prefixes can be transformed into empty strings \n",
    "    # by deletions:\n",
    "    for i in range(1, rows):\n",
    "        dist[i][0] = i\n",
    "    # target prefixes can be created from an empty source string\n",
    "    # by inserting the characters\n",
    "    for i in range(1, cols):\n",
    "        dist[0][i] = i\n",
    "        \n",
    "    for col in range(1, cols):\n",
    "        for row in range(1, rows):\n",
    "            if s[row-1] == t[col-1]:\n",
    "                cost = 0\n",
    "            else:\n",
    "                cost = 1\n",
    "            dist[row][col] = min(dist[row-1][col] + 1,      # deletion\n",
    "                                 dist[row][col-1] + 1,      # insertion\n",
    "                                 dist[row-1][col-1] + cost) # substitution\n",
    "    \n",
    " \n",
    "    return dist"
   ]
  },
  {
   "cell_type": "code",
   "execution_count": null,
   "metadata": {},
   "outputs": [],
   "source": [
    "def LD(s, t, cum = 0,it=0):\n",
    "    print(\"eval\",it)\n",
    "    if cum >3:\n",
    "        return 99\n",
    "    if s == \"\":\n",
    "        return len(t)\n",
    "    if t == \"\":\n",
    "        return len(s)\n",
    "    if s[-1] == t[-1]:\n",
    "        cost = 0\n",
    "    else:\n",
    "        cost = 1\n",
    "       \n",
    "    res = min([LD(s[:-1], t, cum+1,it+1)+1,\n",
    "               LD(s, t[:-1], cum+1,it+1)+1, \n",
    "               LD(s[:-1], t[:-1], cum+cost,it+1) + cost])\n",
    "    return res"
   ]
  },
  {
   "cell_type": "code",
   "execution_count": null,
   "metadata": {},
   "outputs": [],
   "source": [
    "def levenshtein(s, t):\n",
    "    if s == \"\":\n",
    "        return len(t)\n",
    "    if t == \"\":\n",
    "        return len(s)\n",
    "    cost = 0 if s[-1] == t[-1] else 1\n",
    "       \n",
    "    i1 = (s[:-1], t)\n",
    "    if not i1 in memo:\n",
    "        memo[i1] = levenshtein(*i1)\n",
    "    i2 = (s, t[:-1])\n",
    "    if not i2 in memo:\n",
    "        memo[i2] = levenshtein(*i2)\n",
    "    i3 = (s[:-1], t[:-1])\n",
    "    if not i3 in memo:\n",
    "        memo[i3] = levenshtein(*i3)\n",
    "    res = min([memo[i1]+1, memo[i2]+1, memo[i3]+cost])\n",
    "    return res"
   ]
  },
  {
   "cell_type": "markdown",
   "metadata": {},
   "source": [
    "## 2. Definición de la función de Matching\n",
    "\n",
    "Se utiliza como condición que coincidan 3 campos como approach básico. La función devuelve un número con el tipo de error si lo encuentra, y en caso contrario devuelve `False`. La correspondencia es:\n",
    "1. Error en el número de historia\n",
    "2. Error en los apellidos\n",
    "3. Error en el nombre\n",
    "4. Error en la fecha de nacimiento"
   ]
  },
  {
   "cell_type": "code",
   "execution_count": null,
   "metadata": {},
   "outputs": [],
   "source": [
    "def Matching(x,y):\n",
    "\n",
    "    if (x[2]==y[2] and x[1]==y[1] and x[3]==y[3]):\n",
    "        return 0\n",
    "    elif x[2]==y[2] and x[0]==y[0] and x[3]==y[3]:\n",
    "        return 1\n",
    "    elif x[0]==y[0] and x[1]==y[1] and x[3]==y[3]:\n",
    "        return 2\n",
    "    elif x[2]==y[2] and x[1]==y[1] and x[0]==y[0]:\n",
    "        return 3\n",
    "    else:\n",
    "        return False"
   ]
  },
  {
   "cell_type": "markdown",
   "metadata": {},
   "source": [
    "Intento de optimización reduciendo el numero de comparaciones mediante anidados de condicionales."
   ]
  },
  {
   "cell_type": "code",
   "execution_count": null,
   "metadata": {},
   "outputs": [],
   "source": [
    "def matching_simple(x,y):\n",
    "    if x[0]==y[0]:\n",
    "        if x[1]==y[1]:\n",
    "            if x[3]==y[3]:\n",
    "                return 2   #Error en el campo 3\n",
    "            elif x[2]==y[2]:\n",
    "                return 3   #Error en el campo 2\n",
    "        elif x[2]==y[2] and x[3]==y[3]:\n",
    "            return 1       #Error en el campo 1\n",
    "    elif x[1]==y[1] and x[2]==y[2] and x[3]==y[3]:\n",
    "        return 0           #Error en el campo 0\n",
    "    else:\n",
    "        return False"
   ]
  },
  {
   "cell_type": "code",
   "execution_count": null,
   "metadata": {},
   "outputs": [],
   "source": [
    "from fuzzywuzzy import fuzz"
   ]
  },
  {
   "cell_type": "code",
   "execution_count": null,
   "metadata": {},
   "outputs": [],
   "source": [
    "def match_complejo(x,y):\n",
    "    if x[0]==y[0]:\n",
    "        if x[3]==y[3]:\n",
    "            if x[2]==y[2] or fuzz.ratio(x[2],y[2])>90:\n",
    "                return 1\n",
    "            if x[1]==y[1] or fuzz.ratio(x[1],y[1])>90:\n",
    "                return 2\n",
    "        elif fuzz.ratio(x[2],y[2])>90 and fuzz.ratio(x[1],y[1])>90:\n",
    "            return 3\n",
    "    elif x[3]==y[3]:\n",
    "        if fuzz.ratio(x[2],y[2])>90:\n",
    "            if fuzz.ratio(x[1],y[1])>90:\n",
    "                return 0\n",
    "    else:\n",
    "        return False"
   ]
  },
  {
   "cell_type": "markdown",
   "metadata": {},
   "source": [
    "## 3. Ejecución y conteo de errores"
   ]
  },
  {
   "cell_type": "code",
   "execution_count": null,
   "metadata": {},
   "outputs": [],
   "source": [
    "import time"
   ]
  },
  {
   "cell_type": "markdown",
   "metadata": {},
   "source": [
    "### 3.1 Prueba usando match_complejo\n",
    "\n",
    "Tarda aproximadamente 250 segundos en los ordenadores de la facultad."
   ]
  },
  {
   "cell_type": "code",
   "execution_count": null,
   "metadata": {},
   "outputs": [],
   "source": [
    "Error=[0,0,0,0]   # Vector que contendrá el número de errores separados por tipo \n",
    "t=time.time()\n",
    "pruebas=rdd.collect()     # Se hace un collect para poder comparar todos con todos\n",
    "revisados=set()\n",
    "for x in range(len(pruebas)):\n",
    "    for y in range(x+1,len(pruebas)):\n",
    "        if not (x in revisados and y in revisados):\n",
    "            M=match_complejo(pruebas[x],pruebas[y])\n",
    "            if type(M)==int:       # Se comprueba si se ha hay matching\n",
    "                Error[M]+=1\n",
    "                revisados.add(y)\n",
    "            \n",
    "print(\"Tiempo: \", time.time()-t)\n",
    "print(\"Errores: \", Error)\n",
    "print(\"Suma: \", sum(Error))"
   ]
  },
  {
   "cell_type": "code",
   "execution_count": null,
   "metadata": {},
   "outputs": [],
   "source": [
    "### OJO IZQUIERDO!! ###\n",
    "Error=[0,0,0,0]   # Vector que contendrá el número de errores separados por tipo \n",
    "t=time.time()\n",
    "pruebas=rdd2.collect()     # Se hace un collect para poder comparar todos con todos\n",
    "for x in range(len(pruebas)):\n",
    "    for y in range(x+1,len(pruebas)):\n",
    "        if not (x in revisados and y in revisados):\n",
    "            M=match_complejo(pruebas[x],pruebas[y])\n",
    "            if type(M)==int:       # Se comprueba si se ha hay matching\n",
    "                Error[M]+=1\n",
    "                revisados.add(y)\n",
    "                \n",
    "print(\"Tiempo: \", time.time()-t)\n",
    "print(\"Errores: \", Error)\n",
    "print(\"Suma: \", sum(Error))"
   ]
  },
  {
   "cell_type": "markdown",
   "metadata": {},
   "source": [
    "### 3.2 Prueba usando matching_simple\n",
    "\n",
    "Tarda aproximadamente 200 segundos en los ordenadores de la facultad."
   ]
  },
  {
   "cell_type": "code",
   "execution_count": null,
   "metadata": {},
   "outputs": [],
   "source": [
    "Error=[0,0,0,0]\n",
    "t=time.time()\n",
    "pruebas=rdd.collect()\n",
    "revisados=set()\n",
    "for x in range(len(pruebas)):\n",
    "    for y in range(x+1,len(pruebas)):\n",
    "        if not (x in revisados and y in revisados):\n",
    "            M=matching_simple(pruebas[x],pruebas[y])\n",
    "            if type(M)==int:\n",
    "                revisados.add(y)\n",
    "                Error[M]+=1\n",
    "            \n",
    "print(\"Tiempo: \", time.time()-t)\n",
    "print(\"Errores: \", Error)\n",
    "print(\"SUMA: \", sum(Error))"
   ]
  },
  {
   "cell_type": "markdown",
   "metadata": {},
   "source": [
    "### Ojo izquierdo"
   ]
  },
  {
   "cell_type": "code",
   "execution_count": null,
   "metadata": {},
   "outputs": [],
   "source": [
    "Error=[0,0,0,0]\n",
    "t=time.time()\n",
    "pruebas=rdd2.collect()\n",
    "revisados=set()\n",
    "for x in range(len(pruebas)):\n",
    "    for y in range(x+1,len(pruebas)):\n",
    "        if not (x in revisados and y in revisados):\n",
    "            M=matching_simple(pruebas[x],pruebas[y])\n",
    "            if type(M)==int:\n",
    "                revisados.add(y)\n",
    "                Error[M]+=1\n",
    "            \n",
    "print(\"Tiempo: \", time.time()-t)\n",
    "print(\"Errores: \", Error)\n",
    "print(\"SUMA: \", sum(Error))"
   ]
  },
  {
   "cell_type": "markdown",
   "metadata": {},
   "source": [
    "### raw"
   ]
  },
  {
   "cell_type": "code",
   "execution_count": null,
   "metadata": {},
   "outputs": [],
   "source": [
    "rdd3=sc.textFile('cociente_raw_uniform_od.csv').map(lambda x: x.split(';'))\n",
    "rdd4=sc.textFile('cociente_raw_uniform_oi.csv').map(lambda x: x.split(';'))\n",
    "print(rdd.take(20))"
   ]
  },
  {
   "cell_type": "code",
   "execution_count": null,
   "metadata": {},
   "outputs": [],
   "source": [
    "print(rdd3.count())\n",
    "print(rdd4.count())"
   ]
  },
  {
   "cell_type": "code",
   "execution_count": null,
   "metadata": {},
   "outputs": [],
   "source": [
    "Error=[0,0,0,0]\n",
    "t=time.time()\n",
    "pruebas=rdd3.collect()\n",
    "for x in range(len(pruebas)):\n",
    "    for y in range(x+1,len(pruebas)):\n",
    "        M=matching_simple(pruebas[x],pruebas[y])\n",
    "        if type(M)==int:\n",
    "            Error[M]+=1\n",
    "            \n",
    "print(\"Tiempo: \", time.time()-t)\n",
    "print(\"Errores: \", Error)"
   ]
  },
  {
   "cell_type": "code",
   "execution_count": null,
   "metadata": {},
   "outputs": [],
   "source": [
    "Error=[0,0,0,0]\n",
    "t=time.time()\n",
    "pruebas=rdd4.collect()\n",
    "for x in range(len(pruebas)):\n",
    "    for y in range(x+1,len(pruebas)):\n",
    "        M=matching_simple(pruebas[x],pruebas[y])\n",
    "        if type(M)==int:\n",
    "            Error[M]+=1\n",
    "            \n",
    "print(\"Tiempo: \", time.time()-t)\n",
    "print(\"Errores: \", Error)"
   ]
  },
  {
   "cell_type": "markdown",
   "metadata": {},
   "source": [
    "## 4. Registro de los errores\n",
    "\n",
    "Guardamos un archivo llamado `errores_oX.csv` con los errores en cada ojo de la forma: `Tipo error, Registro 1, Registro 2`. "
   ]
  },
  {
   "cell_type": "code",
   "execution_count": null,
   "metadata": {},
   "outputs": [],
   "source": [
    "with open('errores_od.csv', 'w') as archivo:\n",
    "    pruebas=rdd.collect()\n",
    "    for x in range(len(pruebas)):\n",
    "        for y in range(x+1,len(pruebas)):\n",
    "            M=matching_simple(pruebas[x],pruebas[y])\n",
    "            if type(M)==int:\n",
    "                print(';'.join([str(M)]+pruebas[x]+pruebas[y]), file=archivo, end='\\n') "
   ]
  },
  {
   "cell_type": "code",
   "execution_count": null,
   "metadata": {},
   "outputs": [],
   "source": [
    "with open('errores_oi.csv', 'w') as archivo:\n",
    "    pruebas=rdd2.collect()\n",
    "    for x in range(len(pruebas)):\n",
    "        for y in range(x+1,len(pruebas)):\n",
    "            M=matching_simple(pruebas[x],pruebas[y])\n",
    "            if type(M)==int:\n",
    "                print(';'.join([str(M)]+pruebas[x]+pruebas[y]), file=archivo, end='\\n') "
   ]
  },
  {
   "cell_type": "code",
   "execution_count": null,
   "metadata": {},
   "outputs": [],
   "source": [
    "type(False)"
   ]
  },
  {
   "cell_type": "code",
   "execution_count": null,
   "metadata": {},
   "outputs": [],
   "source": []
  }
 ],
 "metadata": {
  "kernelspec": {
   "display_name": "Python 3",
   "language": "python",
   "name": "python3"
  },
  "language_info": {
   "codemirror_mode": {
    "name": "ipython",
    "version": 3
   },
   "file_extension": ".py",
   "mimetype": "text/x-python",
   "name": "python",
   "nbconvert_exporter": "python",
   "pygments_lexer": "ipython3",
   "version": "3.8.5"
  }
 },
 "nbformat": 4,
 "nbformat_minor": 2
}
