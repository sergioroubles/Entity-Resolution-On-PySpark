{
 "cells": [
  {
   "cell_type": "markdown",
   "metadata": {},
   "source": [
    "# Método del \"elemento pivote\""
   ]
  },
  {
   "cell_type": "markdown",
   "metadata": {},
   "source": [
    "### Tabla de contenidos\n",
    "\n",
    "1. Preámbulo: inicialización y muestra de la rdd\n",
    "2. Rutinas:\n",
    "    * 2.1 Matching\n",
    "        * 2.1.1. Matching Directo\n",
    "        * 2.1.2. Matching Complejo\n",
    "    * 2.2. Clave/valor\n",
    "    * 2.3. Compare and merge\n",
    "    * 2.4. Rutina Global\n",
    "3. Rutinas de Ejecucion y Display\n",
    "    * 3.1. Ejecucion en simple\n",
    "    * 3.2. Ejecucion en doble\n",
    "4. Resultados con Matching Directo\n",
    "    * 4.1. Resultados en simple\n",
    "    * 4.2. Resultados en doble\n",
    "5. Resultados con Matching Complejo\n",
    "    * 5.1. Resultados en simple\n",
    "    * 5.2. Resultados en doble\n"
   ]
  },
  {
   "cell_type": "markdown",
   "metadata": {},
   "source": [
    "# Preámbulo\n",
    "\n",
    "Spark context y lectura del archivo. "
   ]
  },
  {
   "cell_type": "code",
   "execution_count": 1,
   "metadata": {
    "collapsed": true
   },
   "outputs": [
    {
     "ename": "ModuleNotFoundError",
     "evalue": "No module named 'pyspark'",
     "output_type": "error",
     "traceback": [
      "\u001b[1;31m---------------------------------------------------------------------------\u001b[0m",
      "\u001b[1;31mModuleNotFoundError\u001b[0m                       Traceback (most recent call last)",
      "\u001b[1;32m<ipython-input-1-c218c50dc44b>\u001b[0m in \u001b[0;36m<module>\u001b[1;34m\u001b[0m\n\u001b[1;32m----> 1\u001b[1;33m \u001b[1;32mfrom\u001b[0m \u001b[0mpyspark\u001b[0m \u001b[1;32mimport\u001b[0m \u001b[0mSparkContext\u001b[0m\u001b[1;33m\u001b[0m\u001b[1;33m\u001b[0m\u001b[0m\n\u001b[0m\u001b[0;32m      2\u001b[0m \u001b[0msc\u001b[0m\u001b[1;33m=\u001b[0m\u001b[0mSparkContext\u001b[0m\u001b[1;33m(\u001b[0m\u001b[1;33m)\u001b[0m\u001b[1;33m\u001b[0m\u001b[1;33m\u001b[0m\u001b[0m\n",
      "\u001b[1;31mModuleNotFoundError\u001b[0m: No module named 'pyspark'"
     ]
    }
   ],
   "source": [
    "from pyspark import SparkContext\n",
    "sc=SparkContext()"
   ]
  },
  {
   "cell_type": "code",
   "execution_count": 2,
   "metadata": {
    "scrolled": true
   },
   "outputs": [
    {
     "name": "stdout",
     "output_type": "stream",
     "text": [
      "Número de registros:  32152\n"
     ]
    }
   ],
   "source": [
    "rdd_derecho=sc.textFile('cociente_clean_uniform_od.csv').map(lambda x: x.split(';'))\n",
    "rdd_derecho=rdd_derecho.map(lambda x: [x[0], x[1],x[2],x[3],eval(x[4])])\n",
    "print('Número de registros: ', rdd_derecho.count())"
   ]
  },
  {
   "cell_type": "code",
   "execution_count": 3,
   "metadata": {
    "scrolled": true
   },
   "outputs": [
    {
     "name": "stdout",
     "output_type": "stream",
     "text": [
      "Número de registros:  34782\n"
     ]
    }
   ],
   "source": [
    "rdd_izquierdo=sc.textFile('cociente_clean_uniform_oi.csv').map(lambda x: x.split(';'))\n",
    "rdd_izquierdo=rdd_izquierdo.map(lambda x: [x[0], x[1],x[2],x[3],eval(x[4])])\n",
    "print('Número de registros: ', rdd_izquierdo.count())"
   ]
  },
  {
   "cell_type": "markdown",
   "metadata": {},
   "source": [
    "La RDD queda estructurada de la siguiente manera:\n",
    "`[NUM,APELLIDOS,NOMBRE,FECHA,INDEX]`\n",
    "\n",
    "Todos los campos son de tipo string"
   ]
  },
  {
   "cell_type": "markdown",
   "metadata": {},
   "source": [
    "# Rutinas necesarias"
   ]
  },
  {
   "cell_type": "markdown",
   "metadata": {},
   "source": [
    "### Función de matching directo\n",
    "\n",
    "Compara por igualdad de campos"
   ]
  },
  {
   "cell_type": "code",
   "execution_count": 4,
   "metadata": {
    "scrolled": true
   },
   "outputs": [],
   "source": [
    "def match_directo(x,y,_):\n",
    "    if x[0]==y[0]:\n",
    "        if x[1]==y[1]:\n",
    "            return True\n",
    "        elif x[2]==y[2]:\n",
    "            return True\n",
    "    elif x[1]==y[1] and x[2]==y[2]:\n",
    "        return True\n",
    "    else:\n",
    "        return False"
   ]
  },
  {
   "cell_type": "markdown",
   "metadata": {},
   "source": [
    "### Matching compleja\n",
    "\n",
    "Compara con fuzzy ratio (basada en levenshtein distance) en los campos de texto."
   ]
  },
  {
   "cell_type": "code",
   "execution_count": 5,
   "metadata": {},
   "outputs": [],
   "source": [
    "from fuzzywuzzy import fuzz"
   ]
  },
  {
   "cell_type": "code",
   "execution_count": 6,
   "metadata": {},
   "outputs": [],
   "source": [
    "def match_complejo(x,y,npiv):\n",
    "    if npiv==0:\n",
    "        if x[2]==y[2]:\n",
    "            if x[1]==y[1] or x[0]==y[0]:\n",
    "                return True\n",
    "            else:\n",
    "                if fuzz.ratio(x[1],y[1])>90:\n",
    "                    return True\n",
    "                if fuzz.ratio(x[0],y[0])>90:\n",
    "                    return True\n",
    "            return False\n",
    "        else:\n",
    "            if fuzz.ratio(x[0],y[0])>90:\n",
    "                if fuzz.ratio(x[1],y[1])>90:\n",
    "                    return True\n",
    "            return False\n",
    "    if npiv==1 or npiv==2:\n",
    "        if x[0]==y[0]:\n",
    "            if x[2]==y[2]:\n",
    "                return True\n",
    "            if fuzz.ratio(x[1],y[1])>90:\n",
    "                return True\n",
    "        elif x[2]==y[2]:\n",
    "            if fuzz.ratio(x[1],y[1])>90:\n",
    "                return True\n",
    "        return False\n",
    "    if npiv==3:\n",
    "        if x[0]==y[0]:\n",
    "            if x[1]==y[1] or x[2]==y[2]:\n",
    "                return True\n",
    "            else:\n",
    "                if fuzz.ratio(x[1],y[1])>90:\n",
    "                    return True\n",
    "                if fuzz.ratio(x[2],y[2])>90:\n",
    "                    return True\n",
    "            return False\n",
    "        else:\n",
    "            if fuzz.ratio(x[2],y[2])>90:\n",
    "                if fuzz.ratio(x[1],y[1])>90:\n",
    "                    return True\n",
    "            return False"
   ]
  },
  {
   "cell_type": "markdown",
   "metadata": {},
   "source": [
    "### Función de clave valor\n",
    "\n",
    "Función que estructura la RDD sobre el elemento clave _(determinado por el valor de la variable global `npiv`)_, y se deja como valor el resto. El valor esta en forma de lista y no de tupla para poder editar sus valores al fusionar dos registros."
   ]
  },
  {
   "cell_type": "code",
   "execution_count": 7,
   "metadata": {
    "scrolled": true
   },
   "outputs": [],
   "source": [
    "def clave_valor(x,npiv):\n",
    "    clave=x[npiv]\n",
    "    del x[npiv]\n",
    "    return [clave,x]\n",
    "\n",
    "def clave_valor_inversa(x,npiv):\n",
    "    x[1].insert(npiv,x[0])\n",
    "    return x[1]"
   ]
  },
  {
   "cell_type": "markdown",
   "metadata": {},
   "source": [
    "### Compare and merge\n",
    "\n",
    "Función que procede de la siguiente manera:\n",
    "\n",
    "1. Si la entrada solo tiene un valor, lo devuelve y lo deja intacto.\n",
    "\n",
    "2. En caso contrario, se transforma el conjunto de registros con la misma fecha a una lista `lista` para recorrerla de la siguiente manera: Se toma un elemento `i` de la lista (empezando **desde el final**), y se va comparando con el elemento primero, luego con el segundo, etc. \n",
    "\n",
    "3. En cuanto coincide con algun elemento `j`, se realizan las siguientes instrucciones:\n",
    "    Primero, se añaden los índices asociados al paciente `i` a la lista de índices del paciente `j`.\n",
    "    Segundo, si el numero de historia en la entrada `j` esta vacío (cosa bastante frecuente), se actualiza al de la entrada `i`.\n",
    "    Por último, se borra la entrada `i` de la lista.\n",
    "\n",
    "4. Se devuelve `[x[0],lista]`"
   ]
  },
  {
   "cell_type": "code",
   "execution_count": 8,
   "metadata": {
    "scrolled": true
   },
   "outputs": [],
   "source": [
    "def compare(x,npiv,funcion_matching):\n",
    "    if len(x[1])==1:                          \n",
    "        return (x[0],list(x[1]))\n",
    "    else:                                      \n",
    "        lista=list(x[1])\n",
    "        for i in reversed(range(len(lista))):            \n",
    "            for j in range(0,i):\n",
    "                if funcion_matching(lista[i],lista[j],npiv):\n",
    "                    lista=merge(lista,i,j)\n",
    "                    break\n",
    "        return (x[0],lista) "
   ]
  },
  {
   "cell_type": "code",
   "execution_count": 9,
   "metadata": {
    "scrolled": false
   },
   "outputs": [],
   "source": [
    "def merge(lista,i,j):\n",
    "    if len(lista[j][3])>len(lista[i][3]):\n",
    "        lista[j][3]|=lista[i][3];\n",
    "    elif len(lista[j][3])<len(lista[i][3]):\n",
    "        lista[i][3]|=lista[j][3];\n",
    "        lista[j]=lista[i];\n",
    "    else:\n",
    "        if lista[i][1]>=lista[j][1]:\n",
    "            lista[j][1]=lista[i][1]\n",
    "        if lista[i][0]>=lista[j][0]:\n",
    "            lista[j][0]=lista[i][0]\n",
    "        if lista[i][2]>=lista[j][2]:\n",
    "            lista[j][1]=lista[i][1]\n",
    "            \n",
    "    del lista[i];\n",
    "    return lista\n",
    "    "
   ]
  },
  {
   "cell_type": "markdown",
   "metadata": {},
   "source": [
    "## Rutina global"
   ]
  },
  {
   "cell_type": "code",
   "execution_count": 10,
   "metadata": {
    "scrolled": false
   },
   "outputs": [],
   "source": [
    "def pivote(rdd,npiv):\n",
    "    rdd2=rdd.map(lambda x: clave_valor(x,npiv)).groupByKey()\\\n",
    "    .map(compare).flatMapValues(lambda x: x)\\\n",
    "    .map(lambda x: clave_valor_inversa(x,npiv))\n",
    "    return rdd2"
   ]
  },
  {
   "cell_type": "markdown",
   "metadata": {},
   "source": [
    "### Contamos el número de registros que no tienen número de historia"
   ]
  },
  {
   "cell_type": "code",
   "execution_count": 26,
   "metadata": {},
   "outputs": [
    {
     "data": {
      "text/plain": [
       "0"
      ]
     },
     "execution_count": 26,
     "metadata": {},
     "output_type": "execute_result"
    }
   ],
   "source": [
    "rdd_derecho.map(lambda x: (x[0])).filter(lambda x: x=='').count()"
   ]
  },
  {
   "cell_type": "code",
   "execution_count": 21,
   "metadata": {},
   "outputs": [
    {
     "data": {
      "text/plain": [
       "1347921"
      ]
     },
     "execution_count": 21,
     "metadata": {},
     "output_type": "execute_result"
    }
   ],
   "source": [
    "1161**2"
   ]
  },
  {
   "cell_type": "code",
   "execution_count": 11,
   "metadata": {
    "scrolled": false
   },
   "outputs": [],
   "source": [
    "def pivote_info(rdd,npiv,funcion_matching):\n",
    "    nreg=rdd.count()\n",
    "    t=time.time()\n",
    "    \n",
    "    rdd2=rdd.map(lambda x: clave_valor(x,npiv)).groupByKey()\n",
    "    bloques=rdd2.count()\n",
    "    comparaciones=rdd2.map(lambda x: len(list(x[1]))**2).sum()\n",
    "    rdd2=rdd2.map(lambda x: compare(x,npiv,funcion_matching))\\\n",
    "    .flatMapValues(lambda x: x).map(lambda x: clave_valor_inversa(x,npiv))\n",
    "    \n",
    "    tiempo=time.time()-t\n",
    "    nfinal=rdd2.count()\n",
    "    duplicados=nreg-nfinal\n",
    "    info=[round(tiempo,2),duplicados,nfinal,bloques,\\\n",
    "          round(nreg/bloques,2),comparaciones,\\\n",
    "          round(duplicados**2/comparaciones)]\n",
    "    return rdd2, info"
   ]
  },
  {
   "cell_type": "markdown",
   "metadata": {},
   "source": [
    "# Funciones de ejecución y display"
   ]
  },
  {
   "cell_type": "code",
   "execution_count": 12,
   "metadata": {},
   "outputs": [],
   "source": [
    "import time\n",
    "from pandas import DataFrame"
   ]
  },
  {
   "cell_type": "markdown",
   "metadata": {},
   "source": [
    "## Rutinas para ejecución y display en simple"
   ]
  },
  {
   "cell_type": "code",
   "execution_count": 13,
   "metadata": {},
   "outputs": [],
   "source": [
    "campos=[\"Numero\", \"Apellidos\",\"Nombre\",\"Fecha\"]\n",
    "info_headers=[\"Tiempo\",\"Duplicados\",\"Registros\",\\\n",
    "              \"Bloques\",\"Registros/bloque\",\"Comparaciones\",\"EFICIENCIA\"]"
   ]
  },
  {
   "cell_type": "code",
   "execution_count": 14,
   "metadata": {},
   "outputs": [],
   "source": [
    "def resultados_ejecuciones_simple(rdd,funcion_matching):\n",
    "    info=[[],[],[],[]]\n",
    "    for i in range(4):\n",
    "        _,info[i]=pivote_info(rdd,i,funcion_matching)\n",
    "\n",
    "    data=DataFrame.from_records(info)\n",
    "    data.columns=info_headers\n",
    "    data.index=campos\n",
    "    return data"
   ]
  },
  {
   "cell_type": "markdown",
   "metadata": {},
   "source": [
    "## Rutinas para ejecución y display en doble"
   ]
  },
  {
   "cell_type": "code",
   "execution_count": 16,
   "metadata": {},
   "outputs": [],
   "source": [
    "info_doble_headers=[\"Tiempo\",\"Duplicados1\", \"Duplicados2\",\\\n",
    "                    \"Duplicados\",\"Bloques\",\"Comparaciones\",\"EFICIENCIA\"]"
   ]
  },
  {
   "cell_type": "code",
   "execution_count": 17,
   "metadata": {},
   "outputs": [],
   "source": [
    "def pivote_doble_info(rdd,i,j,funcion_matching):\n",
    "    rdd2,info1=pivote_info(rdd,i,funcion_matching)\n",
    "    rdd2,info2=pivote_info(rdd2,j,funcion_matching)\n",
    "    return rdd2,info1,info2"
   ]
  },
  {
   "cell_type": "code",
   "execution_count": 18,
   "metadata": {},
   "outputs": [],
   "source": [
    "def resultados_ejecuciones_doble(rdd,funcion_matching):\n",
    "    k=0\n",
    "    info_doble=[[] for n in range(12)]\n",
    "    campos_doble=[\"\" for n in range(12)]\n",
    "    for i in range(4):\n",
    "        for j in range(4):\n",
    "            if i!=j:\n",
    "                _,info1,info2=pivote_doble_info(rdd,i,j,funcion_matching)\n",
    "                info_doble[k]=[round(info1[0]+info2[0],2),\\\n",
    "                               info1[1],info2[1],info1[1]+info2[1],\\\n",
    "                               info1[3]+info2[3],info1[5]+info2[5],\\\n",
    "                               round((info1[1]+info2[1])**2/(info1[5]+info2[5]),2)]\n",
    "                campos_doble[k]=campos[i]+\"+\"+campos[j]\n",
    "                k+=1\n",
    "    data=DataFrame(info_doble,columns=info_doble_headers,index=campos_doble)\n",
    "    data=data.sort_values('EFICIENCIA',ascending=False)\n",
    "    return data"
   ]
  },
  {
   "cell_type": "markdown",
   "metadata": {},
   "source": [
    "# Resultados Matching Directo"
   ]
  },
  {
   "cell_type": "markdown",
   "metadata": {},
   "source": [
    "## Resultados en simple"
   ]
  },
  {
   "cell_type": "markdown",
   "metadata": {},
   "source": [
    "### Ojo derecho"
   ]
  },
  {
   "cell_type": "code",
   "execution_count": 19,
   "metadata": {
    "scrolled": true
   },
   "outputs": [
    {
     "data": {
      "text/html": [
       "<div>\n",
       "<style scoped>\n",
       "    .dataframe tbody tr th:only-of-type {\n",
       "        vertical-align: middle;\n",
       "    }\n",
       "\n",
       "    .dataframe tbody tr th {\n",
       "        vertical-align: top;\n",
       "    }\n",
       "\n",
       "    .dataframe thead th {\n",
       "        text-align: right;\n",
       "    }\n",
       "</style>\n",
       "<table border=\"1\" class=\"dataframe\">\n",
       "  <thead>\n",
       "    <tr style=\"text-align: right;\">\n",
       "      <th></th>\n",
       "      <th>Tiempo</th>\n",
       "      <th>Duplicados</th>\n",
       "      <th>Registros</th>\n",
       "      <th>Bloques</th>\n",
       "      <th>Registros/bloque</th>\n",
       "      <th>Comparaciones</th>\n",
       "      <th>EFICIENCIA</th>\n",
       "    </tr>\n",
       "  </thead>\n",
       "  <tbody>\n",
       "    <tr>\n",
       "      <th>Numero</th>\n",
       "      <td>1.19</td>\n",
       "      <td>6709</td>\n",
       "      <td>25443</td>\n",
       "      <td>23909</td>\n",
       "      <td>1.34</td>\n",
       "      <td>1399036</td>\n",
       "      <td>32</td>\n",
       "    </tr>\n",
       "    <tr>\n",
       "      <th>Apellidos</th>\n",
       "      <td>1.04</td>\n",
       "      <td>6546</td>\n",
       "      <td>25606</td>\n",
       "      <td>20839</td>\n",
       "      <td>1.54</td>\n",
       "      <td>115816</td>\n",
       "      <td>370</td>\n",
       "    </tr>\n",
       "    <tr>\n",
       "      <th>Nombre</th>\n",
       "      <td>0.87</td>\n",
       "      <td>7106</td>\n",
       "      <td>25046</td>\n",
       "      <td>4284</td>\n",
       "      <td>7.51</td>\n",
       "      <td>5165414</td>\n",
       "      <td>10</td>\n",
       "    </tr>\n",
       "    <tr>\n",
       "      <th>Fecha</th>\n",
       "      <td>0.88</td>\n",
       "      <td>5301</td>\n",
       "      <td>26851</td>\n",
       "      <td>15207</td>\n",
       "      <td>2.11</td>\n",
       "      <td>101838</td>\n",
       "      <td>276</td>\n",
       "    </tr>\n",
       "  </tbody>\n",
       "</table>\n",
       "</div>"
      ],
      "text/plain": [
       "           Tiempo  Duplicados  Registros  Bloques  Registros/bloque  \\\n",
       "Numero       1.19        6709      25443    23909              1.34   \n",
       "Apellidos    1.04        6546      25606    20839              1.54   \n",
       "Nombre       0.87        7106      25046     4284              7.51   \n",
       "Fecha        0.88        5301      26851    15207              2.11   \n",
       "\n",
       "           Comparaciones  EFICIENCIA  \n",
       "Numero           1399036          32  \n",
       "Apellidos         115816         370  \n",
       "Nombre           5165414          10  \n",
       "Fecha             101838         276  "
      ]
     },
     "execution_count": 19,
     "metadata": {},
     "output_type": "execute_result"
    }
   ],
   "source": [
    "directo_simple_derecho=resultados_ejecuciones_simple(rdd_derecho,match_directo)\n",
    "directo_simple_derecho"
   ]
  },
  {
   "cell_type": "markdown",
   "metadata": {},
   "source": [
    "### Ojo izquierdo"
   ]
  },
  {
   "cell_type": "code",
   "execution_count": 20,
   "metadata": {
    "scrolled": true
   },
   "outputs": [
    {
     "data": {
      "text/html": [
       "<div>\n",
       "<style scoped>\n",
       "    .dataframe tbody tr th:only-of-type {\n",
       "        vertical-align: middle;\n",
       "    }\n",
       "\n",
       "    .dataframe tbody tr th {\n",
       "        vertical-align: top;\n",
       "    }\n",
       "\n",
       "    .dataframe thead th {\n",
       "        text-align: right;\n",
       "    }\n",
       "</style>\n",
       "<table border=\"1\" class=\"dataframe\">\n",
       "  <thead>\n",
       "    <tr style=\"text-align: right;\">\n",
       "      <th></th>\n",
       "      <th>Tiempo</th>\n",
       "      <th>Duplicados</th>\n",
       "      <th>Registros</th>\n",
       "      <th>Bloques</th>\n",
       "      <th>Registros/bloque</th>\n",
       "      <th>Comparaciones</th>\n",
       "      <th>EFICIENCIA</th>\n",
       "    </tr>\n",
       "  </thead>\n",
       "  <tbody>\n",
       "    <tr>\n",
       "      <th>Numero</th>\n",
       "      <td>0.82</td>\n",
       "      <td>8098</td>\n",
       "      <td>26686</td>\n",
       "      <td>24840</td>\n",
       "      <td>1.40</td>\n",
       "      <td>1723346</td>\n",
       "      <td>38</td>\n",
       "    </tr>\n",
       "    <tr>\n",
       "      <th>Apellidos</th>\n",
       "      <td>0.84</td>\n",
       "      <td>8378</td>\n",
       "      <td>26406</td>\n",
       "      <td>21316</td>\n",
       "      <td>1.63</td>\n",
       "      <td>141018</td>\n",
       "      <td>498</td>\n",
       "    </tr>\n",
       "    <tr>\n",
       "      <th>Nombre</th>\n",
       "      <td>0.70</td>\n",
       "      <td>9070</td>\n",
       "      <td>25714</td>\n",
       "      <td>4493</td>\n",
       "      <td>7.74</td>\n",
       "      <td>6182064</td>\n",
       "      <td>13</td>\n",
       "    </tr>\n",
       "    <tr>\n",
       "      <th>Fecha</th>\n",
       "      <td>0.82</td>\n",
       "      <td>6422</td>\n",
       "      <td>28362</td>\n",
       "      <td>15616</td>\n",
       "      <td>2.23</td>\n",
       "      <td>118850</td>\n",
       "      <td>347</td>\n",
       "    </tr>\n",
       "  </tbody>\n",
       "</table>\n",
       "</div>"
      ],
      "text/plain": [
       "           Tiempo  Duplicados  Registros  Bloques  Registros/bloque  \\\n",
       "Numero       0.82        8098      26686    24840              1.40   \n",
       "Apellidos    0.84        8378      26406    21316              1.63   \n",
       "Nombre       0.70        9070      25714     4493              7.74   \n",
       "Fecha        0.82        6422      28362    15616              2.23   \n",
       "\n",
       "           Comparaciones  EFICIENCIA  \n",
       "Numero           1723346          38  \n",
       "Apellidos         141018         498  \n",
       "Nombre           6182064          13  \n",
       "Fecha             118850         347  "
      ]
     },
     "execution_count": 20,
     "metadata": {},
     "output_type": "execute_result"
    }
   ],
   "source": [
    "directo_simple_izquierdo=resultados_ejecuciones_simple(rdd_izquierdo,match_directo)\n",
    "directo_simple_izquierdo"
   ]
  },
  {
   "cell_type": "markdown",
   "metadata": {},
   "source": [
    "## Resultados doble"
   ]
  },
  {
   "cell_type": "markdown",
   "metadata": {},
   "source": [
    "### Ojo derecho"
   ]
  },
  {
   "cell_type": "code",
   "execution_count": 21,
   "metadata": {
    "scrolled": true
   },
   "outputs": [
    {
     "data": {
      "text/html": [
       "<div>\n",
       "<style scoped>\n",
       "    .dataframe tbody tr th:only-of-type {\n",
       "        vertical-align: middle;\n",
       "    }\n",
       "\n",
       "    .dataframe tbody tr th {\n",
       "        vertical-align: top;\n",
       "    }\n",
       "\n",
       "    .dataframe thead th {\n",
       "        text-align: right;\n",
       "    }\n",
       "</style>\n",
       "<table border=\"1\" class=\"dataframe\">\n",
       "  <thead>\n",
       "    <tr style=\"text-align: right;\">\n",
       "      <th></th>\n",
       "      <th>Tiempo</th>\n",
       "      <th>Duplicados1</th>\n",
       "      <th>Duplicados2</th>\n",
       "      <th>Duplicados</th>\n",
       "      <th>Bloques</th>\n",
       "      <th>Comparaciones</th>\n",
       "      <th>EFICIENCIA</th>\n",
       "    </tr>\n",
       "  </thead>\n",
       "  <tbody>\n",
       "    <tr>\n",
       "      <th>Apellidos+Fecha</th>\n",
       "      <td>1.38</td>\n",
       "      <td>6546</td>\n",
       "      <td>1947</td>\n",
       "      <td>8493</td>\n",
       "      <td>35068</td>\n",
       "      <td>180450</td>\n",
       "      <td>399.73</td>\n",
       "    </tr>\n",
       "    <tr>\n",
       "      <th>Fecha+Apellidos</th>\n",
       "      <td>1.54</td>\n",
       "      <td>5301</td>\n",
       "      <td>3184</td>\n",
       "      <td>8485</td>\n",
       "      <td>34268</td>\n",
       "      <td>186225</td>\n",
       "      <td>386.60</td>\n",
       "    </tr>\n",
       "    <tr>\n",
       "      <th>Fecha+Numero</th>\n",
       "      <td>1.51</td>\n",
       "      <td>5301</td>\n",
       "      <td>3184</td>\n",
       "      <td>8485</td>\n",
       "      <td>37420</td>\n",
       "      <td>1249471</td>\n",
       "      <td>57.62</td>\n",
       "    </tr>\n",
       "    <tr>\n",
       "      <th>Apellidos+Numero</th>\n",
       "      <td>1.41</td>\n",
       "      <td>6546</td>\n",
       "      <td>1947</td>\n",
       "      <td>8493</td>\n",
       "      <td>43051</td>\n",
       "      <td>1286362</td>\n",
       "      <td>56.07</td>\n",
       "    </tr>\n",
       "    <tr>\n",
       "      <th>Numero+Fecha</th>\n",
       "      <td>1.67</td>\n",
       "      <td>6709</td>\n",
       "      <td>1744</td>\n",
       "      <td>8453</td>\n",
       "      <td>38140</td>\n",
       "      <td>1462621</td>\n",
       "      <td>48.85</td>\n",
       "    </tr>\n",
       "    <tr>\n",
       "      <th>Numero+Apellidos</th>\n",
       "      <td>1.55</td>\n",
       "      <td>6709</td>\n",
       "      <td>1744</td>\n",
       "      <td>8453</td>\n",
       "      <td>42988</td>\n",
       "      <td>1473251</td>\n",
       "      <td>48.50</td>\n",
       "    </tr>\n",
       "    <tr>\n",
       "      <th>Apellidos+Nombre</th>\n",
       "      <td>1.24</td>\n",
       "      <td>6546</td>\n",
       "      <td>1947</td>\n",
       "      <td>8493</td>\n",
       "      <td>24573</td>\n",
       "      <td>3459294</td>\n",
       "      <td>20.85</td>\n",
       "    </tr>\n",
       "    <tr>\n",
       "      <th>Fecha+Nombre</th>\n",
       "      <td>1.35</td>\n",
       "      <td>5301</td>\n",
       "      <td>3184</td>\n",
       "      <td>8485</td>\n",
       "      <td>18922</td>\n",
       "      <td>3872779</td>\n",
       "      <td>18.59</td>\n",
       "    </tr>\n",
       "    <tr>\n",
       "      <th>Numero+Nombre</th>\n",
       "      <td>1.49</td>\n",
       "      <td>6709</td>\n",
       "      <td>1744</td>\n",
       "      <td>8453</td>\n",
       "      <td>27646</td>\n",
       "      <td>4704589</td>\n",
       "      <td>15.19</td>\n",
       "    </tr>\n",
       "    <tr>\n",
       "      <th>Nombre+Fecha</th>\n",
       "      <td>1.56</td>\n",
       "      <td>7106</td>\n",
       "      <td>1395</td>\n",
       "      <td>8501</td>\n",
       "      <td>18505</td>\n",
       "      <td>5226612</td>\n",
       "      <td>13.83</td>\n",
       "    </tr>\n",
       "    <tr>\n",
       "      <th>Nombre+Apellidos</th>\n",
       "      <td>1.59</td>\n",
       "      <td>7106</td>\n",
       "      <td>1395</td>\n",
       "      <td>8501</td>\n",
       "      <td>23344</td>\n",
       "      <td>5236528</td>\n",
       "      <td>13.80</td>\n",
       "    </tr>\n",
       "    <tr>\n",
       "      <th>Nombre+Numero</th>\n",
       "      <td>1.64</td>\n",
       "      <td>7106</td>\n",
       "      <td>1395</td>\n",
       "      <td>8501</td>\n",
       "      <td>26503</td>\n",
       "      <td>6277384</td>\n",
       "      <td>11.51</td>\n",
       "    </tr>\n",
       "  </tbody>\n",
       "</table>\n",
       "</div>"
      ],
      "text/plain": [
       "                  Tiempo  Duplicados1  Duplicados2  Duplicados  Bloques  \\\n",
       "Apellidos+Fecha     1.38         6546         1947        8493    35068   \n",
       "Fecha+Apellidos     1.54         5301         3184        8485    34268   \n",
       "Fecha+Numero        1.51         5301         3184        8485    37420   \n",
       "Apellidos+Numero    1.41         6546         1947        8493    43051   \n",
       "Numero+Fecha        1.67         6709         1744        8453    38140   \n",
       "Numero+Apellidos    1.55         6709         1744        8453    42988   \n",
       "Apellidos+Nombre    1.24         6546         1947        8493    24573   \n",
       "Fecha+Nombre        1.35         5301         3184        8485    18922   \n",
       "Numero+Nombre       1.49         6709         1744        8453    27646   \n",
       "Nombre+Fecha        1.56         7106         1395        8501    18505   \n",
       "Nombre+Apellidos    1.59         7106         1395        8501    23344   \n",
       "Nombre+Numero       1.64         7106         1395        8501    26503   \n",
       "\n",
       "                  Comparaciones  EFICIENCIA  \n",
       "Apellidos+Fecha          180450      399.73  \n",
       "Fecha+Apellidos          186225      386.60  \n",
       "Fecha+Numero            1249471       57.62  \n",
       "Apellidos+Numero        1286362       56.07  \n",
       "Numero+Fecha            1462621       48.85  \n",
       "Numero+Apellidos        1473251       48.50  \n",
       "Apellidos+Nombre        3459294       20.85  \n",
       "Fecha+Nombre            3872779       18.59  \n",
       "Numero+Nombre           4704589       15.19  \n",
       "Nombre+Fecha            5226612       13.83  \n",
       "Nombre+Apellidos        5236528       13.80  \n",
       "Nombre+Numero           6277384       11.51  "
      ]
     },
     "execution_count": 21,
     "metadata": {},
     "output_type": "execute_result"
    }
   ],
   "source": [
    "directo_doble_derecho=resultados_ejecuciones_doble(rdd_derecho,match_directo)\n",
    "directo_doble_derecho"
   ]
  },
  {
   "cell_type": "markdown",
   "metadata": {},
   "source": [
    "### Ojo izquierdo"
   ]
  },
  {
   "cell_type": "code",
   "execution_count": 22,
   "metadata": {
    "scrolled": false
   },
   "outputs": [
    {
     "data": {
      "text/html": [
       "<div>\n",
       "<style scoped>\n",
       "    .dataframe tbody tr th:only-of-type {\n",
       "        vertical-align: middle;\n",
       "    }\n",
       "\n",
       "    .dataframe tbody tr th {\n",
       "        vertical-align: top;\n",
       "    }\n",
       "\n",
       "    .dataframe thead th {\n",
       "        text-align: right;\n",
       "    }\n",
       "</style>\n",
       "<table border=\"1\" class=\"dataframe\">\n",
       "  <thead>\n",
       "    <tr style=\"text-align: right;\">\n",
       "      <th></th>\n",
       "      <th>Tiempo</th>\n",
       "      <th>Duplicados1</th>\n",
       "      <th>Duplicados2</th>\n",
       "      <th>Duplicados</th>\n",
       "      <th>Bloques</th>\n",
       "      <th>Comparaciones</th>\n",
       "      <th>EFICIENCIA</th>\n",
       "    </tr>\n",
       "  </thead>\n",
       "  <tbody>\n",
       "    <tr>\n",
       "      <th>Apellidos+Fecha</th>\n",
       "      <td>1.38</td>\n",
       "      <td>8378</td>\n",
       "      <td>2199</td>\n",
       "      <td>10577</td>\n",
       "      <td>35653</td>\n",
       "      <td>210044</td>\n",
       "      <td>532.62</td>\n",
       "    </tr>\n",
       "    <tr>\n",
       "      <th>Fecha+Apellidos</th>\n",
       "      <td>1.63</td>\n",
       "      <td>6422</td>\n",
       "      <td>4121</td>\n",
       "      <td>10543</td>\n",
       "      <td>34931</td>\n",
       "      <td>215418</td>\n",
       "      <td>516.00</td>\n",
       "    </tr>\n",
       "    <tr>\n",
       "      <th>Fecha+Numero</th>\n",
       "      <td>1.71</td>\n",
       "      <td>6422</td>\n",
       "      <td>4121</td>\n",
       "      <td>10543</td>\n",
       "      <td>38089</td>\n",
       "      <td>1522314</td>\n",
       "      <td>73.02</td>\n",
       "    </tr>\n",
       "    <tr>\n",
       "      <th>Apellidos+Numero</th>\n",
       "      <td>1.43</td>\n",
       "      <td>8378</td>\n",
       "      <td>2199</td>\n",
       "      <td>10577</td>\n",
       "      <td>43789</td>\n",
       "      <td>1544054</td>\n",
       "      <td>72.45</td>\n",
       "    </tr>\n",
       "    <tr>\n",
       "      <th>Numero+Fecha</th>\n",
       "      <td>1.76</td>\n",
       "      <td>8098</td>\n",
       "      <td>2429</td>\n",
       "      <td>10527</td>\n",
       "      <td>39187</td>\n",
       "      <td>1794064</td>\n",
       "      <td>61.77</td>\n",
       "    </tr>\n",
       "    <tr>\n",
       "      <th>Numero+Apellidos</th>\n",
       "      <td>1.86</td>\n",
       "      <td>8098</td>\n",
       "      <td>2429</td>\n",
       "      <td>10527</td>\n",
       "      <td>44146</td>\n",
       "      <td>1807852</td>\n",
       "      <td>61.30</td>\n",
       "    </tr>\n",
       "    <tr>\n",
       "      <th>Apellidos+Nombre</th>\n",
       "      <td>1.37</td>\n",
       "      <td>8378</td>\n",
       "      <td>2199</td>\n",
       "      <td>10577</td>\n",
       "      <td>25141</td>\n",
       "      <td>3718240</td>\n",
       "      <td>30.09</td>\n",
       "    </tr>\n",
       "    <tr>\n",
       "      <th>Fecha+Nombre</th>\n",
       "      <td>1.69</td>\n",
       "      <td>6422</td>\n",
       "      <td>4121</td>\n",
       "      <td>10543</td>\n",
       "      <td>19429</td>\n",
       "      <td>4341870</td>\n",
       "      <td>25.60</td>\n",
       "    </tr>\n",
       "    <tr>\n",
       "      <th>Numero+Nombre</th>\n",
       "      <td>1.81</td>\n",
       "      <td>8098</td>\n",
       "      <td>2429</td>\n",
       "      <td>10527</td>\n",
       "      <td>28669</td>\n",
       "      <td>5413240</td>\n",
       "      <td>20.47</td>\n",
       "    </tr>\n",
       "    <tr>\n",
       "      <th>Nombre+Fecha</th>\n",
       "      <td>1.78</td>\n",
       "      <td>9070</td>\n",
       "      <td>1503</td>\n",
       "      <td>10573</td>\n",
       "      <td>18831</td>\n",
       "      <td>6246538</td>\n",
       "      <td>17.90</td>\n",
       "    </tr>\n",
       "    <tr>\n",
       "      <th>Nombre+Apellidos</th>\n",
       "      <td>1.89</td>\n",
       "      <td>9070</td>\n",
       "      <td>1503</td>\n",
       "      <td>10573</td>\n",
       "      <td>23808</td>\n",
       "      <td>6257580</td>\n",
       "      <td>17.86</td>\n",
       "    </tr>\n",
       "    <tr>\n",
       "      <th>Nombre+Numero</th>\n",
       "      <td>1.82</td>\n",
       "      <td>9070</td>\n",
       "      <td>1503</td>\n",
       "      <td>10573</td>\n",
       "      <td>26962</td>\n",
       "      <td>7534160</td>\n",
       "      <td>14.84</td>\n",
       "    </tr>\n",
       "  </tbody>\n",
       "</table>\n",
       "</div>"
      ],
      "text/plain": [
       "                  Tiempo  Duplicados1  Duplicados2  Duplicados  Bloques  \\\n",
       "Apellidos+Fecha     1.38         8378         2199       10577    35653   \n",
       "Fecha+Apellidos     1.63         6422         4121       10543    34931   \n",
       "Fecha+Numero        1.71         6422         4121       10543    38089   \n",
       "Apellidos+Numero    1.43         8378         2199       10577    43789   \n",
       "Numero+Fecha        1.76         8098         2429       10527    39187   \n",
       "Numero+Apellidos    1.86         8098         2429       10527    44146   \n",
       "Apellidos+Nombre    1.37         8378         2199       10577    25141   \n",
       "Fecha+Nombre        1.69         6422         4121       10543    19429   \n",
       "Numero+Nombre       1.81         8098         2429       10527    28669   \n",
       "Nombre+Fecha        1.78         9070         1503       10573    18831   \n",
       "Nombre+Apellidos    1.89         9070         1503       10573    23808   \n",
       "Nombre+Numero       1.82         9070         1503       10573    26962   \n",
       "\n",
       "                  Comparaciones  EFICIENCIA  \n",
       "Apellidos+Fecha          210044      532.62  \n",
       "Fecha+Apellidos          215418      516.00  \n",
       "Fecha+Numero            1522314       73.02  \n",
       "Apellidos+Numero        1544054       72.45  \n",
       "Numero+Fecha            1794064       61.77  \n",
       "Numero+Apellidos        1807852       61.30  \n",
       "Apellidos+Nombre        3718240       30.09  \n",
       "Fecha+Nombre            4341870       25.60  \n",
       "Numero+Nombre           5413240       20.47  \n",
       "Nombre+Fecha            6246538       17.90  \n",
       "Nombre+Apellidos        6257580       17.86  \n",
       "Nombre+Numero           7534160       14.84  "
      ]
     },
     "execution_count": 22,
     "metadata": {},
     "output_type": "execute_result"
    }
   ],
   "source": [
    "directo_doble_izquierdo=resultados_ejecuciones_doble(rdd_izquierdo,match_directo)\n",
    "directo_doble_izquierdo"
   ]
  },
  {
   "cell_type": "markdown",
   "metadata": {},
   "source": [
    "# Resultados Matching Complejo"
   ]
  },
  {
   "cell_type": "markdown",
   "metadata": {},
   "source": [
    "### https://github.com/seatgeek/fuzzywuzzy"
   ]
  },
  {
   "cell_type": "markdown",
   "metadata": {},
   "source": [
    "## Resultados simple"
   ]
  },
  {
   "cell_type": "markdown",
   "metadata": {},
   "source": [
    "### Ojo derecho"
   ]
  },
  {
   "cell_type": "code",
   "execution_count": 23,
   "metadata": {
    "scrolled": true
   },
   "outputs": [
    {
     "data": {
      "text/html": [
       "<div>\n",
       "<style scoped>\n",
       "    .dataframe tbody tr th:only-of-type {\n",
       "        vertical-align: middle;\n",
       "    }\n",
       "\n",
       "    .dataframe tbody tr th {\n",
       "        vertical-align: top;\n",
       "    }\n",
       "\n",
       "    .dataframe thead th {\n",
       "        text-align: right;\n",
       "    }\n",
       "</style>\n",
       "<table border=\"1\" class=\"dataframe\">\n",
       "  <thead>\n",
       "    <tr style=\"text-align: right;\">\n",
       "      <th></th>\n",
       "      <th>Tiempo</th>\n",
       "      <th>Duplicados</th>\n",
       "      <th>Registros</th>\n",
       "      <th>Bloques</th>\n",
       "      <th>Registros/bloque</th>\n",
       "      <th>Comparaciones</th>\n",
       "      <th>EFICIENCIA</th>\n",
       "    </tr>\n",
       "  </thead>\n",
       "  <tbody>\n",
       "    <tr>\n",
       "      <th>Numero</th>\n",
       "      <td>0.86</td>\n",
       "      <td>6916</td>\n",
       "      <td>25236</td>\n",
       "      <td>23909</td>\n",
       "      <td>1.34</td>\n",
       "      <td>1399036</td>\n",
       "      <td>34</td>\n",
       "    </tr>\n",
       "    <tr>\n",
       "      <th>Apellidos</th>\n",
       "      <td>0.89</td>\n",
       "      <td>6597</td>\n",
       "      <td>25555</td>\n",
       "      <td>20839</td>\n",
       "      <td>1.54</td>\n",
       "      <td>115816</td>\n",
       "      <td>376</td>\n",
       "    </tr>\n",
       "    <tr>\n",
       "      <th>Nombre</th>\n",
       "      <td>0.72</td>\n",
       "      <td>7333</td>\n",
       "      <td>24819</td>\n",
       "      <td>4284</td>\n",
       "      <td>7.51</td>\n",
       "      <td>5165414</td>\n",
       "      <td>10</td>\n",
       "    </tr>\n",
       "    <tr>\n",
       "      <th>Fecha</th>\n",
       "      <td>1.07</td>\n",
       "      <td>5541</td>\n",
       "      <td>26611</td>\n",
       "      <td>15207</td>\n",
       "      <td>2.11</td>\n",
       "      <td>101838</td>\n",
       "      <td>301</td>\n",
       "    </tr>\n",
       "  </tbody>\n",
       "</table>\n",
       "</div>"
      ],
      "text/plain": [
       "           Tiempo  Duplicados  Registros  Bloques  Registros/bloque  \\\n",
       "Numero       0.86        6916      25236    23909              1.34   \n",
       "Apellidos    0.89        6597      25555    20839              1.54   \n",
       "Nombre       0.72        7333      24819     4284              7.51   \n",
       "Fecha        1.07        5541      26611    15207              2.11   \n",
       "\n",
       "           Comparaciones  EFICIENCIA  \n",
       "Numero           1399036          34  \n",
       "Apellidos         115816         376  \n",
       "Nombre           5165414          10  \n",
       "Fecha             101838         301  "
      ]
     },
     "execution_count": 23,
     "metadata": {},
     "output_type": "execute_result"
    }
   ],
   "source": [
    "complejo_simple_derecho=resultados_ejecuciones_simple(rdd_derecho,match_complejo)\n",
    "complejo_simple_derecho"
   ]
  },
  {
   "cell_type": "markdown",
   "metadata": {},
   "source": [
    "### Ojo izquierdo"
   ]
  },
  {
   "cell_type": "code",
   "execution_count": 24,
   "metadata": {
    "scrolled": true
   },
   "outputs": [
    {
     "data": {
      "text/html": [
       "<div>\n",
       "<style scoped>\n",
       "    .dataframe tbody tr th:only-of-type {\n",
       "        vertical-align: middle;\n",
       "    }\n",
       "\n",
       "    .dataframe tbody tr th {\n",
       "        vertical-align: top;\n",
       "    }\n",
       "\n",
       "    .dataframe thead th {\n",
       "        text-align: right;\n",
       "    }\n",
       "</style>\n",
       "<table border=\"1\" class=\"dataframe\">\n",
       "  <thead>\n",
       "    <tr style=\"text-align: right;\">\n",
       "      <th></th>\n",
       "      <th>Tiempo</th>\n",
       "      <th>Duplicados</th>\n",
       "      <th>Registros</th>\n",
       "      <th>Bloques</th>\n",
       "      <th>Registros/bloque</th>\n",
       "      <th>Comparaciones</th>\n",
       "      <th>EFICIENCIA</th>\n",
       "    </tr>\n",
       "  </thead>\n",
       "  <tbody>\n",
       "    <tr>\n",
       "      <th>Numero</th>\n",
       "      <td>0.88</td>\n",
       "      <td>8432</td>\n",
       "      <td>26352</td>\n",
       "      <td>24840</td>\n",
       "      <td>1.40</td>\n",
       "      <td>1723346</td>\n",
       "      <td>41</td>\n",
       "    </tr>\n",
       "    <tr>\n",
       "      <th>Apellidos</th>\n",
       "      <td>0.95</td>\n",
       "      <td>8468</td>\n",
       "      <td>26316</td>\n",
       "      <td>21316</td>\n",
       "      <td>1.63</td>\n",
       "      <td>141018</td>\n",
       "      <td>508</td>\n",
       "    </tr>\n",
       "    <tr>\n",
       "      <th>Nombre</th>\n",
       "      <td>0.78</td>\n",
       "      <td>9424</td>\n",
       "      <td>25360</td>\n",
       "      <td>4493</td>\n",
       "      <td>7.74</td>\n",
       "      <td>6182064</td>\n",
       "      <td>14</td>\n",
       "    </tr>\n",
       "    <tr>\n",
       "      <th>Fecha</th>\n",
       "      <td>1.37</td>\n",
       "      <td>6752</td>\n",
       "      <td>28032</td>\n",
       "      <td>15616</td>\n",
       "      <td>2.23</td>\n",
       "      <td>118850</td>\n",
       "      <td>384</td>\n",
       "    </tr>\n",
       "  </tbody>\n",
       "</table>\n",
       "</div>"
      ],
      "text/plain": [
       "           Tiempo  Duplicados  Registros  Bloques  Registros/bloque  \\\n",
       "Numero       0.88        8432      26352    24840              1.40   \n",
       "Apellidos    0.95        8468      26316    21316              1.63   \n",
       "Nombre       0.78        9424      25360     4493              7.74   \n",
       "Fecha        1.37        6752      28032    15616              2.23   \n",
       "\n",
       "           Comparaciones  EFICIENCIA  \n",
       "Numero           1723346          41  \n",
       "Apellidos         141018         508  \n",
       "Nombre           6182064          14  \n",
       "Fecha             118850         384  "
      ]
     },
     "execution_count": 24,
     "metadata": {},
     "output_type": "execute_result"
    }
   ],
   "source": [
    "complejo_simple_izquierdo=resultados_ejecuciones_simple(rdd_izquierdo,match_complejo)\n",
    "complejo_simple_izquierdo"
   ]
  },
  {
   "cell_type": "markdown",
   "metadata": {},
   "source": [
    "## Resultados doble"
   ]
  },
  {
   "cell_type": "markdown",
   "metadata": {},
   "source": [
    "### Ojo derecho"
   ]
  },
  {
   "cell_type": "code",
   "execution_count": 25,
   "metadata": {},
   "outputs": [
    {
     "data": {
      "text/html": [
       "<div>\n",
       "<style scoped>\n",
       "    .dataframe tbody tr th:only-of-type {\n",
       "        vertical-align: middle;\n",
       "    }\n",
       "\n",
       "    .dataframe tbody tr th {\n",
       "        vertical-align: top;\n",
       "    }\n",
       "\n",
       "    .dataframe thead th {\n",
       "        text-align: right;\n",
       "    }\n",
       "</style>\n",
       "<table border=\"1\" class=\"dataframe\">\n",
       "  <thead>\n",
       "    <tr style=\"text-align: right;\">\n",
       "      <th></th>\n",
       "      <th>Tiempo</th>\n",
       "      <th>Duplicados1</th>\n",
       "      <th>Duplicados2</th>\n",
       "      <th>Duplicados</th>\n",
       "      <th>Bloques</th>\n",
       "      <th>Comparaciones</th>\n",
       "      <th>EFICIENCIA</th>\n",
       "    </tr>\n",
       "  </thead>\n",
       "  <tbody>\n",
       "    <tr>\n",
       "      <th>Apellidos+Fecha</th>\n",
       "      <td>1.28</td>\n",
       "      <td>6597</td>\n",
       "      <td>2151</td>\n",
       "      <td>8748</td>\n",
       "      <td>35058</td>\n",
       "      <td>180187</td>\n",
       "      <td>424.71</td>\n",
       "    </tr>\n",
       "    <tr>\n",
       "      <th>Fecha+Apellidos</th>\n",
       "      <td>1.31</td>\n",
       "      <td>5541</td>\n",
       "      <td>3195</td>\n",
       "      <td>8736</td>\n",
       "      <td>34076</td>\n",
       "      <td>185657</td>\n",
       "      <td>411.07</td>\n",
       "    </tr>\n",
       "    <tr>\n",
       "      <th>Fecha+Numero</th>\n",
       "      <td>1.48</td>\n",
       "      <td>5541</td>\n",
       "      <td>3295</td>\n",
       "      <td>8836</td>\n",
       "      <td>37338</td>\n",
       "      <td>1094467</td>\n",
       "      <td>71.34</td>\n",
       "    </tr>\n",
       "    <tr>\n",
       "      <th>Apellidos+Numero</th>\n",
       "      <td>1.38</td>\n",
       "      <td>6597</td>\n",
       "      <td>2130</td>\n",
       "      <td>8727</td>\n",
       "      <td>43037</td>\n",
       "      <td>1256549</td>\n",
       "      <td>60.61</td>\n",
       "    </tr>\n",
       "    <tr>\n",
       "      <th>Numero+Fecha</th>\n",
       "      <td>4.72</td>\n",
       "      <td>6916</td>\n",
       "      <td>1890</td>\n",
       "      <td>8806</td>\n",
       "      <td>38092</td>\n",
       "      <td>1461582</td>\n",
       "      <td>53.06</td>\n",
       "    </tr>\n",
       "    <tr>\n",
       "      <th>Numero+Apellidos</th>\n",
       "      <td>4.88</td>\n",
       "      <td>6916</td>\n",
       "      <td>1764</td>\n",
       "      <td>8680</td>\n",
       "      <td>42824</td>\n",
       "      <td>1472836</td>\n",
       "      <td>51.15</td>\n",
       "    </tr>\n",
       "    <tr>\n",
       "      <th>Apellidos+Nombre</th>\n",
       "      <td>1.20</td>\n",
       "      <td>6597</td>\n",
       "      <td>2163</td>\n",
       "      <td>8760</td>\n",
       "      <td>24540</td>\n",
       "      <td>3457963</td>\n",
       "      <td>22.19</td>\n",
       "    </tr>\n",
       "    <tr>\n",
       "      <th>Fecha+Nombre</th>\n",
       "      <td>1.27</td>\n",
       "      <td>5541</td>\n",
       "      <td>3275</td>\n",
       "      <td>8816</td>\n",
       "      <td>18864</td>\n",
       "      <td>3823727</td>\n",
       "      <td>20.33</td>\n",
       "    </tr>\n",
       "    <tr>\n",
       "      <th>Numero+Nombre</th>\n",
       "      <td>4.49</td>\n",
       "      <td>6916</td>\n",
       "      <td>1864</td>\n",
       "      <td>8780</td>\n",
       "      <td>27591</td>\n",
       "      <td>4668280</td>\n",
       "      <td>16.51</td>\n",
       "    </tr>\n",
       "    <tr>\n",
       "      <th>Nombre+Fecha</th>\n",
       "      <td>1.61</td>\n",
       "      <td>7333</td>\n",
       "      <td>1496</td>\n",
       "      <td>8829</td>\n",
       "      <td>18464</td>\n",
       "      <td>5225493</td>\n",
       "      <td>14.92</td>\n",
       "    </tr>\n",
       "    <tr>\n",
       "      <th>Nombre+Apellidos</th>\n",
       "      <td>1.51</td>\n",
       "      <td>7333</td>\n",
       "      <td>1440</td>\n",
       "      <td>8773</td>\n",
       "      <td>23138</td>\n",
       "      <td>5236163</td>\n",
       "      <td>14.70</td>\n",
       "    </tr>\n",
       "    <tr>\n",
       "      <th>Nombre+Numero</th>\n",
       "      <td>1.56</td>\n",
       "      <td>7333</td>\n",
       "      <td>1493</td>\n",
       "      <td>8826</td>\n",
       "      <td>26436</td>\n",
       "      <td>6153701</td>\n",
       "      <td>12.66</td>\n",
       "    </tr>\n",
       "  </tbody>\n",
       "</table>\n",
       "</div>"
      ],
      "text/plain": [
       "                  Tiempo  Duplicados1  Duplicados2  Duplicados  Bloques  \\\n",
       "Apellidos+Fecha     1.28         6597         2151        8748    35058   \n",
       "Fecha+Apellidos     1.31         5541         3195        8736    34076   \n",
       "Fecha+Numero        1.48         5541         3295        8836    37338   \n",
       "Apellidos+Numero    1.38         6597         2130        8727    43037   \n",
       "Numero+Fecha        4.72         6916         1890        8806    38092   \n",
       "Numero+Apellidos    4.88         6916         1764        8680    42824   \n",
       "Apellidos+Nombre    1.20         6597         2163        8760    24540   \n",
       "Fecha+Nombre        1.27         5541         3275        8816    18864   \n",
       "Numero+Nombre       4.49         6916         1864        8780    27591   \n",
       "Nombre+Fecha        1.61         7333         1496        8829    18464   \n",
       "Nombre+Apellidos    1.51         7333         1440        8773    23138   \n",
       "Nombre+Numero       1.56         7333         1493        8826    26436   \n",
       "\n",
       "                  Comparaciones  EFICIENCIA  \n",
       "Apellidos+Fecha          180187      424.71  \n",
       "Fecha+Apellidos          185657      411.07  \n",
       "Fecha+Numero            1094467       71.34  \n",
       "Apellidos+Numero        1256549       60.61  \n",
       "Numero+Fecha            1461582       53.06  \n",
       "Numero+Apellidos        1472836       51.15  \n",
       "Apellidos+Nombre        3457963       22.19  \n",
       "Fecha+Nombre            3823727       20.33  \n",
       "Numero+Nombre           4668280       16.51  \n",
       "Nombre+Fecha            5225493       14.92  \n",
       "Nombre+Apellidos        5236163       14.70  \n",
       "Nombre+Numero           6153701       12.66  "
      ]
     },
     "execution_count": 25,
     "metadata": {},
     "output_type": "execute_result"
    }
   ],
   "source": [
    "complejo_doble_derecho=resultados_ejecuciones_doble(rdd_derecho,match_complejo)\n",
    "complejo_doble_derecho"
   ]
  },
  {
   "cell_type": "markdown",
   "metadata": {},
   "source": [
    "### Ojo izquierdo"
   ]
  },
  {
   "cell_type": "code",
   "execution_count": 26,
   "metadata": {},
   "outputs": [
    {
     "data": {
      "text/html": [
       "<div>\n",
       "<style scoped>\n",
       "    .dataframe tbody tr th:only-of-type {\n",
       "        vertical-align: middle;\n",
       "    }\n",
       "\n",
       "    .dataframe tbody tr th {\n",
       "        vertical-align: top;\n",
       "    }\n",
       "\n",
       "    .dataframe thead th {\n",
       "        text-align: right;\n",
       "    }\n",
       "</style>\n",
       "<table border=\"1\" class=\"dataframe\">\n",
       "  <thead>\n",
       "    <tr style=\"text-align: right;\">\n",
       "      <th></th>\n",
       "      <th>Tiempo</th>\n",
       "      <th>Duplicados1</th>\n",
       "      <th>Duplicados2</th>\n",
       "      <th>Duplicados</th>\n",
       "      <th>Bloques</th>\n",
       "      <th>Comparaciones</th>\n",
       "      <th>EFICIENCIA</th>\n",
       "    </tr>\n",
       "  </thead>\n",
       "  <tbody>\n",
       "    <tr>\n",
       "      <th>Apellidos+Fecha</th>\n",
       "      <td>1.31</td>\n",
       "      <td>8468</td>\n",
       "      <td>2472</td>\n",
       "      <td>10940</td>\n",
       "      <td>35639</td>\n",
       "      <td>209562</td>\n",
       "      <td>571.11</td>\n",
       "    </tr>\n",
       "    <tr>\n",
       "      <th>Fecha+Apellidos</th>\n",
       "      <td>1.53</td>\n",
       "      <td>6752</td>\n",
       "      <td>4161</td>\n",
       "      <td>10913</td>\n",
       "      <td>34665</td>\n",
       "      <td>214514</td>\n",
       "      <td>555.18</td>\n",
       "    </tr>\n",
       "    <tr>\n",
       "      <th>Fecha+Numero</th>\n",
       "      <td>1.82</td>\n",
       "      <td>6752</td>\n",
       "      <td>4338</td>\n",
       "      <td>11090</td>\n",
       "      <td>37953</td>\n",
       "      <td>1334746</td>\n",
       "      <td>92.14</td>\n",
       "    </tr>\n",
       "    <tr>\n",
       "      <th>Apellidos+Numero</th>\n",
       "      <td>1.30</td>\n",
       "      <td>8468</td>\n",
       "      <td>2480</td>\n",
       "      <td>10948</td>\n",
       "      <td>43762</td>\n",
       "      <td>1504340</td>\n",
       "      <td>79.68</td>\n",
       "    </tr>\n",
       "    <tr>\n",
       "      <th>Numero+Fecha</th>\n",
       "      <td>5.61</td>\n",
       "      <td>8432</td>\n",
       "      <td>2637</td>\n",
       "      <td>11069</td>\n",
       "      <td>39103</td>\n",
       "      <td>1792530</td>\n",
       "      <td>68.35</td>\n",
       "    </tr>\n",
       "    <tr>\n",
       "      <th>Numero+Apellidos</th>\n",
       "      <td>5.42</td>\n",
       "      <td>8432</td>\n",
       "      <td>2471</td>\n",
       "      <td>10903</td>\n",
       "      <td>43885</td>\n",
       "      <td>1807134</td>\n",
       "      <td>65.78</td>\n",
       "    </tr>\n",
       "    <tr>\n",
       "      <th>Apellidos+Nombre</th>\n",
       "      <td>1.28</td>\n",
       "      <td>8468</td>\n",
       "      <td>2532</td>\n",
       "      <td>11000</td>\n",
       "      <td>25074</td>\n",
       "      <td>3716004</td>\n",
       "      <td>32.56</td>\n",
       "    </tr>\n",
       "    <tr>\n",
       "      <th>Fecha+Nombre</th>\n",
       "      <td>1.32</td>\n",
       "      <td>6752</td>\n",
       "      <td>4291</td>\n",
       "      <td>11043</td>\n",
       "      <td>19340</td>\n",
       "      <td>4275946</td>\n",
       "      <td>28.52</td>\n",
       "    </tr>\n",
       "    <tr>\n",
       "      <th>Numero+Nombre</th>\n",
       "      <td>5.17</td>\n",
       "      <td>8432</td>\n",
       "      <td>2589</td>\n",
       "      <td>11021</td>\n",
       "      <td>28584</td>\n",
       "      <td>5349790</td>\n",
       "      <td>22.70</td>\n",
       "    </tr>\n",
       "    <tr>\n",
       "      <th>Nombre+Fecha</th>\n",
       "      <td>2.07</td>\n",
       "      <td>9424</td>\n",
       "      <td>1654</td>\n",
       "      <td>11078</td>\n",
       "      <td>18761</td>\n",
       "      <td>6244908</td>\n",
       "      <td>19.65</td>\n",
       "    </tr>\n",
       "    <tr>\n",
       "      <th>Nombre+Apellidos</th>\n",
       "      <td>1.73</td>\n",
       "      <td>9424</td>\n",
       "      <td>1588</td>\n",
       "      <td>11012</td>\n",
       "      <td>23473</td>\n",
       "      <td>6257126</td>\n",
       "      <td>19.38</td>\n",
       "    </tr>\n",
       "    <tr>\n",
       "      <th>Nombre+Numero</th>\n",
       "      <td>2.16</td>\n",
       "      <td>9424</td>\n",
       "      <td>1656</td>\n",
       "      <td>11080</td>\n",
       "      <td>26853</td>\n",
       "      <td>7388152</td>\n",
       "      <td>16.62</td>\n",
       "    </tr>\n",
       "  </tbody>\n",
       "</table>\n",
       "</div>"
      ],
      "text/plain": [
       "                  Tiempo  Duplicados1  Duplicados2  Duplicados  Bloques  \\\n",
       "Apellidos+Fecha     1.31         8468         2472       10940    35639   \n",
       "Fecha+Apellidos     1.53         6752         4161       10913    34665   \n",
       "Fecha+Numero        1.82         6752         4338       11090    37953   \n",
       "Apellidos+Numero    1.30         8468         2480       10948    43762   \n",
       "Numero+Fecha        5.61         8432         2637       11069    39103   \n",
       "Numero+Apellidos    5.42         8432         2471       10903    43885   \n",
       "Apellidos+Nombre    1.28         8468         2532       11000    25074   \n",
       "Fecha+Nombre        1.32         6752         4291       11043    19340   \n",
       "Numero+Nombre       5.17         8432         2589       11021    28584   \n",
       "Nombre+Fecha        2.07         9424         1654       11078    18761   \n",
       "Nombre+Apellidos    1.73         9424         1588       11012    23473   \n",
       "Nombre+Numero       2.16         9424         1656       11080    26853   \n",
       "\n",
       "                  Comparaciones  EFICIENCIA  \n",
       "Apellidos+Fecha          209562      571.11  \n",
       "Fecha+Apellidos          214514      555.18  \n",
       "Fecha+Numero            1334746       92.14  \n",
       "Apellidos+Numero        1504340       79.68  \n",
       "Numero+Fecha            1792530       68.35  \n",
       "Numero+Apellidos        1807134       65.78  \n",
       "Apellidos+Nombre        3716004       32.56  \n",
       "Fecha+Nombre            4275946       28.52  \n",
       "Numero+Nombre           5349790       22.70  \n",
       "Nombre+Fecha            6244908       19.65  \n",
       "Nombre+Apellidos        6257126       19.38  \n",
       "Nombre+Numero           7388152       16.62  "
      ]
     },
     "execution_count": 26,
     "metadata": {},
     "output_type": "execute_result"
    }
   ],
   "source": [
    "complejo_doble_izquierdo=resultados_ejecuciones_doble(rdd_izquierdo,match_complejo)\n",
    "complejo_doble_izquierdo"
   ]
  }
 ],
 "metadata": {
  "kernelspec": {
   "display_name": "Python 3",
   "language": "python",
   "name": "python3"
  },
  "language_info": {
   "codemirror_mode": {
    "name": "ipython",
    "version": 3
   },
   "file_extension": ".py",
   "mimetype": "text/x-python",
   "name": "python",
   "nbconvert_exporter": "python",
   "pygments_lexer": "ipython3",
   "version": "3.8.5"
  }
 },
 "nbformat": 4,
 "nbformat_minor": 2
}
